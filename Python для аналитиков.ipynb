{
 "cells": [
  {
   "cell_type": "code",
   "execution_count": 1,
   "metadata": {},
   "outputs": [
    {
     "data": {
      "text/html": [
       "<div>\n",
       "<style scoped>\n",
       "    .dataframe tbody tr th:only-of-type {\n",
       "        vertical-align: middle;\n",
       "    }\n",
       "\n",
       "    .dataframe tbody tr th {\n",
       "        vertical-align: top;\n",
       "    }\n",
       "\n",
       "    .dataframe thead th {\n",
       "        text-align: right;\n",
       "    }\n",
       "</style>\n",
       "<table border=\"1\" class=\"dataframe\">\n",
       "  <thead>\n",
       "    <tr style=\"text-align: right;\">\n",
       "      <th></th>\n",
       "      <th>issuenum</th>\n",
       "      <th>description</th>\n",
       "      <th>created</th>\n",
       "    </tr>\n",
       "  </thead>\n",
       "  <tbody>\n",
       "    <tr>\n",
       "      <th>0</th>\n",
       "      <td>39788</td>\n",
       "      <td>отклоняет шаблон здравствуйте, система отклоня...</td>\n",
       "      <td>2018-12-31 07:50:10</td>\n",
       "    </tr>\n",
       "    <tr>\n",
       "      <th>1</th>\n",
       "      <td>39787</td>\n",
       "      <td>истек срок запроса здравствуйте, истек срок по...</td>\n",
       "      <td>2018-12-29 18:46:52</td>\n",
       "    </tr>\n",
       "    <tr>\n",
       "      <th>2</th>\n",
       "      <td>39786</td>\n",
       "      <td>нет запроса регулятора добрый день! отсутствуе...</td>\n",
       "      <td>2018-12-29 15:55:30</td>\n",
       "    </tr>\n",
       "    <tr>\n",
       "      <th>3</th>\n",
       "      <td>39785</td>\n",
       "      <td>загрузка на сервер фас россии добрый день. под...</td>\n",
       "      <td>2018-12-29 15:07:15</td>\n",
       "    </tr>\n",
       "    <tr>\n",
       "      <th>4</th>\n",
       "      <td>39784</td>\n",
       "      <td>отсутствует подключение сервера добрый день! н...</td>\n",
       "      <td>2018-12-29 14:33:38</td>\n",
       "    </tr>\n",
       "    <tr>\n",
       "      <th>5</th>\n",
       "      <td>39782</td>\n",
       "      <td>шаблоны отклонены системой fas.jkh.open.info.p...</td>\n",
       "      <td>2018-12-29 13:54:25</td>\n",
       "    </tr>\n",
       "    <tr>\n",
       "      <th>6</th>\n",
       "      <td>39781</td>\n",
       "      <td>настройка регионального портала здравствуйте,в...</td>\n",
       "      <td>2018-12-29 13:53:31</td>\n",
       "    </tr>\n",
       "    <tr>\n",
       "      <th>7</th>\n",
       "      <td>39780</td>\n",
       "      <td>изменение гост здравствуйте! в системе появляе...</td>\n",
       "      <td>2018-12-29 13:18:17</td>\n",
       "    </tr>\n",
       "    <tr>\n",
       "      <th>8</th>\n",
       "      <td>39779</td>\n",
       "      <td>не приходят шаблоны и ошиб добрый день. первый...</td>\n",
       "      <td>2018-12-29 13:16:59</td>\n",
       "    </tr>\n",
       "    <tr>\n",
       "      <th>9</th>\n",
       "      <td>39778</td>\n",
       "      <td>региональный запрос. здравствуйте,в системе еи...</td>\n",
       "      <td>2018-12-29 13:14:25</td>\n",
       "    </tr>\n",
       "  </tbody>\n",
       "</table>\n",
       "</div>"
      ],
      "text/plain": [
       "   issuenum                                        description  \\\n",
       "0     39788  отклоняет шаблон здравствуйте, система отклоня...   \n",
       "1     39787  истек срок запроса здравствуйте, истек срок по...   \n",
       "2     39786  нет запроса регулятора добрый день! отсутствуе...   \n",
       "3     39785  загрузка на сервер фас россии добрый день. под...   \n",
       "4     39784  отсутствует подключение сервера добрый день! н...   \n",
       "5     39782  шаблоны отклонены системой fas.jkh.open.info.p...   \n",
       "6     39781  настройка регионального портала здравствуйте,в...   \n",
       "7     39780  изменение гост здравствуйте! в системе появляе...   \n",
       "8     39779  не приходят шаблоны и ошиб добрый день. первый...   \n",
       "9     39778  региональный запрос. здравствуйте,в системе еи...   \n",
       "\n",
       "              created  \n",
       "0 2018-12-31 07:50:10  \n",
       "1 2018-12-29 18:46:52  \n",
       "2 2018-12-29 15:55:30  \n",
       "3 2018-12-29 15:07:15  \n",
       "4 2018-12-29 14:33:38  \n",
       "5 2018-12-29 13:54:25  \n",
       "6 2018-12-29 13:53:31  \n",
       "7 2018-12-29 13:18:17  \n",
       "8 2018-12-29 13:16:59  \n",
       "9 2018-12-29 13:14:25  "
      ]
     },
     "execution_count": 1,
     "metadata": {},
     "output_type": "execute_result"
    }
   ],
   "source": [
    "# подключаем библиотеку Pandas для работы с данными и задаём псевдоним pd\n",
    "import pandas as pd\n",
    "\n",
    "# импортируем в массив data данные из excel-файла\n",
    "data1 = pd.read_excel('support_data1.xlsx')\n",
    "\n",
    "# посмотрим первые 10 строк получившегося массива\n",
    "data1.head(10)"
   ]
  },
  {
   "cell_type": "code",
   "execution_count": 2,
   "metadata": {},
   "outputs": [
    {
     "name": "stdout",
     "output_type": "stream",
     "text": [
      "<class 'pandas.core.frame.DataFrame'>\n",
      "RangeIndex: 7753 entries, 0 to 7752\n",
      "Data columns (total 3 columns):\n",
      "issuenum       7753 non-null int64\n",
      "description    7753 non-null object\n",
      "created        7753 non-null datetime64[ns]\n",
      "dtypes: datetime64[ns](1), int64(1), object(1)\n",
      "memory usage: 181.8+ KB\n"
     ]
    }
   ],
   "source": [
    "# посмотрим информацию о массиве: сколько строк, колонок, сколько в них значений и какого типа\n",
    "data1.info()"
   ]
  },
  {
   "cell_type": "code",
   "execution_count": 3,
   "metadata": {},
   "outputs": [
    {
     "name": "stdout",
     "output_type": "stream",
     "text": [
      "<class 'pandas.core.frame.DataFrame'>\n",
      "RangeIndex: 5146 entries, 0 to 5145\n",
      "Data columns (total 3 columns):\n",
      "issuenum       5146 non-null int64\n",
      "description    5146 non-null object\n",
      "created        5146 non-null datetime64[ns]\n",
      "dtypes: datetime64[ns](1), int64(1), object(1)\n",
      "memory usage: 120.7+ KB\n",
      "None\n"
     ]
    }
   ],
   "source": [
    "# сделаем тоже самое со вторым файлом\n",
    "data2 = pd.read_excel('support_data2.xlsx')\n",
    "print(data2.info())"
   ]
  },
  {
   "cell_type": "code",
   "execution_count": 4,
   "metadata": {},
   "outputs": [
    {
     "name": "stdout",
     "output_type": "stream",
     "text": [
      "<class 'pandas.core.frame.DataFrame'>\n",
      "Int64Index: 12899 entries, 0 to 5145\n",
      "Data columns (total 3 columns):\n",
      "issuenum       12899 non-null int64\n",
      "description    12899 non-null object\n",
      "created        12899 non-null datetime64[ns]\n",
      "dtypes: datetime64[ns](1), int64(1), object(1)\n",
      "memory usage: 403.1+ KB\n",
      "None\n"
     ]
    },
    {
     "data": {
      "text/html": [
       "<div>\n",
       "<style scoped>\n",
       "    .dataframe tbody tr th:only-of-type {\n",
       "        vertical-align: middle;\n",
       "    }\n",
       "\n",
       "    .dataframe tbody tr th {\n",
       "        vertical-align: top;\n",
       "    }\n",
       "\n",
       "    .dataframe thead th {\n",
       "        text-align: right;\n",
       "    }\n",
       "</style>\n",
       "<table border=\"1\" class=\"dataframe\">\n",
       "  <thead>\n",
       "    <tr style=\"text-align: right;\">\n",
       "      <th></th>\n",
       "      <th>issuenum</th>\n",
       "      <th>description</th>\n",
       "      <th>created</th>\n",
       "    </tr>\n",
       "  </thead>\n",
       "  <tbody>\n",
       "    <tr>\n",
       "      <th>0</th>\n",
       "      <td>39788</td>\n",
       "      <td>отклоняет шаблон здравствуйте, система отклоня...</td>\n",
       "      <td>2018-12-31 07:50:10</td>\n",
       "    </tr>\n",
       "    <tr>\n",
       "      <th>1</th>\n",
       "      <td>39787</td>\n",
       "      <td>истек срок запроса здравствуйте, истек срок по...</td>\n",
       "      <td>2018-12-29 18:46:52</td>\n",
       "    </tr>\n",
       "    <tr>\n",
       "      <th>2</th>\n",
       "      <td>39786</td>\n",
       "      <td>нет запроса регулятора добрый день! отсутствуе...</td>\n",
       "      <td>2018-12-29 15:55:30</td>\n",
       "    </tr>\n",
       "    <tr>\n",
       "      <th>3</th>\n",
       "      <td>39785</td>\n",
       "      <td>загрузка на сервер фас россии добрый день. под...</td>\n",
       "      <td>2018-12-29 15:07:15</td>\n",
       "    </tr>\n",
       "    <tr>\n",
       "      <th>4</th>\n",
       "      <td>39784</td>\n",
       "      <td>отсутствует подключение сервера добрый день! н...</td>\n",
       "      <td>2018-12-29 14:33:38</td>\n",
       "    </tr>\n",
       "  </tbody>\n",
       "</table>\n",
       "</div>"
      ],
      "text/plain": [
       "   issuenum                                        description  \\\n",
       "0     39788  отклоняет шаблон здравствуйте, система отклоня...   \n",
       "1     39787  истек срок запроса здравствуйте, истек срок по...   \n",
       "2     39786  нет запроса регулятора добрый день! отсутствуе...   \n",
       "3     39785  загрузка на сервер фас россии добрый день. под...   \n",
       "4     39784  отсутствует подключение сервера добрый день! н...   \n",
       "\n",
       "              created  \n",
       "0 2018-12-31 07:50:10  \n",
       "1 2018-12-29 18:46:52  \n",
       "2 2018-12-29 15:55:30  \n",
       "3 2018-12-29 15:07:15  \n",
       "4 2018-12-29 14:33:38  "
      ]
     },
     "execution_count": 4,
     "metadata": {},
     "output_type": "execute_result"
    }
   ],
   "source": [
    "# создадим массив, объединяющий data1 и data2\n",
    "# подробно про объединения - https://pandas.pydata.org/pandas-docs/stable/user_guide/merging.html\n",
    "data = data1.append(data2)\n",
    "print(data.info())\n",
    "data.head()"
   ]
  },
  {
   "cell_type": "code",
   "execution_count": 5,
   "metadata": {},
   "outputs": [
    {
     "name": "stdout",
     "output_type": "stream",
     "text": [
      "<class 'pandas.core.frame.DataFrame'>\n",
      "Int64Index: 12899 entries, 0 to 5145\n",
      "Data columns (total 4 columns):\n",
      "issuenum           12899 non-null int64\n",
      "description        12899 non-null object\n",
      "created            12899 non-null datetime64[ns]\n",
      "description_len    12899 non-null int64\n",
      "dtypes: datetime64[ns](1), int64(2), object(1)\n",
      "memory usage: 503.9+ KB\n",
      "None\n"
     ]
    },
    {
     "data": {
      "text/html": [
       "<div>\n",
       "<style scoped>\n",
       "    .dataframe tbody tr th:only-of-type {\n",
       "        vertical-align: middle;\n",
       "    }\n",
       "\n",
       "    .dataframe tbody tr th {\n",
       "        vertical-align: top;\n",
       "    }\n",
       "\n",
       "    .dataframe thead th {\n",
       "        text-align: right;\n",
       "    }\n",
       "</style>\n",
       "<table border=\"1\" class=\"dataframe\">\n",
       "  <thead>\n",
       "    <tr style=\"text-align: right;\">\n",
       "      <th></th>\n",
       "      <th>issuenum</th>\n",
       "      <th>description</th>\n",
       "      <th>created</th>\n",
       "      <th>description_len</th>\n",
       "    </tr>\n",
       "  </thead>\n",
       "  <tbody>\n",
       "    <tr>\n",
       "      <th>0</th>\n",
       "      <td>39788</td>\n",
       "      <td>отклоняет шаблон здравствуйте, система отклоня...</td>\n",
       "      <td>2018-12-31 07:50:10</td>\n",
       "      <td>220</td>\n",
       "    </tr>\n",
       "    <tr>\n",
       "      <th>1</th>\n",
       "      <td>39787</td>\n",
       "      <td>истек срок запроса здравствуйте, истек срок по...</td>\n",
       "      <td>2018-12-29 18:46:52</td>\n",
       "      <td>164</td>\n",
       "    </tr>\n",
       "    <tr>\n",
       "      <th>2</th>\n",
       "      <td>39786</td>\n",
       "      <td>нет запроса регулятора добрый день! отсутствуе...</td>\n",
       "      <td>2018-12-29 15:55:30</td>\n",
       "      <td>110</td>\n",
       "    </tr>\n",
       "    <tr>\n",
       "      <th>3</th>\n",
       "      <td>39785</td>\n",
       "      <td>загрузка на сервер фас россии добрый день. под...</td>\n",
       "      <td>2018-12-29 15:07:15</td>\n",
       "      <td>146</td>\n",
       "    </tr>\n",
       "    <tr>\n",
       "      <th>4</th>\n",
       "      <td>39784</td>\n",
       "      <td>отсутствует подключение сервера добрый день! н...</td>\n",
       "      <td>2018-12-29 14:33:38</td>\n",
       "      <td>118</td>\n",
       "    </tr>\n",
       "  </tbody>\n",
       "</table>\n",
       "</div>"
      ],
      "text/plain": [
       "   issuenum                                        description  \\\n",
       "0     39788  отклоняет шаблон здравствуйте, система отклоня...   \n",
       "1     39787  истек срок запроса здравствуйте, истек срок по...   \n",
       "2     39786  нет запроса регулятора добрый день! отсутствуе...   \n",
       "3     39785  загрузка на сервер фас россии добрый день. под...   \n",
       "4     39784  отсутствует подключение сервера добрый день! н...   \n",
       "\n",
       "              created  description_len  \n",
       "0 2018-12-31 07:50:10              220  \n",
       "1 2018-12-29 18:46:52              164  \n",
       "2 2018-12-29 15:55:30              110  \n",
       "3 2018-12-29 15:07:15              146  \n",
       "4 2018-12-29 14:33:38              118  "
      ]
     },
     "execution_count": 5,
     "metadata": {},
     "output_type": "execute_result"
    }
   ],
   "source": [
    "# добавим в массив новое поле, которое будет равно длине строки в поле description\n",
    "data['description_len'] = data['description'].apply(len)\n",
    "print(data.info())\n",
    "data.head()"
   ]
  },
  {
   "cell_type": "code",
   "execution_count": 6,
   "metadata": {},
   "outputs": [
    {
     "name": "stdout",
     "output_type": "stream",
     "text": [
      "<class 'pandas.core.frame.DataFrame'>\n",
      "Int64Index: 11044 entries, 0 to 5145\n",
      "Data columns (total 4 columns):\n",
      "issuenum           11044 non-null int64\n",
      "description        11044 non-null object\n",
      "created            11044 non-null datetime64[ns]\n",
      "description_len    11044 non-null int64\n",
      "dtypes: datetime64[ns](1), int64(2), object(1)\n",
      "memory usage: 431.4+ KB\n",
      "None\n"
     ]
    }
   ],
   "source": [
    "# удалим из массива строки, у которы поле description меньше 100 символов\n",
    "data = data[(data.description_len > 100)]\n",
    "print(data.info())"
   ]
  },
  {
   "cell_type": "code",
   "execution_count": 7,
   "metadata": {},
   "outputs": [],
   "source": [
    "import warnings\n",
    "warnings.filterwarnings(\"ignore\")\n",
    "\n",
    "# сохраним полученный результат в файл\n",
    "data.to_excel('support_data.xlsx')"
   ]
  }
 ],
 "metadata": {
  "kernelspec": {
   "display_name": "Python 3",
   "language": "python",
   "name": "python3"
  },
  "language_info": {
   "codemirror_mode": {
    "name": "ipython",
    "version": 3
   },
   "file_extension": ".py",
   "mimetype": "text/x-python",
   "name": "python",
   "nbconvert_exporter": "python",
   "pygments_lexer": "ipython3",
   "version": "3.7.3"
  }
 },
 "nbformat": 4,
 "nbformat_minor": 2
}
